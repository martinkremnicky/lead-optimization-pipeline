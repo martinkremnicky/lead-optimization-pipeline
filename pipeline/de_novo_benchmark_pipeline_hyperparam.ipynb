{
 "cells": [
  {
   "cell_type": "code",
   "execution_count": 1,
   "metadata": {},
   "outputs": [],
   "source": [
    "%load_ext autoreload\n",
    "%autoreload 2"
   ]
  },
  {
   "cell_type": "code",
   "execution_count": 2,
   "metadata": {},
   "outputs": [
    {
     "name": "stderr",
     "output_type": "stream",
     "text": [
      "c:\\Users\\marti\\anaconda3\\envs\\thesis_3.8\\lib\\site-packages\\tqdm\\auto.py:21: TqdmWarning: IProgress not found. Please update jupyter and ipywidgets. See https://ipywidgets.readthedocs.io/en/stable/user_install.html\n",
      "  from .autonotebook import tqdm as notebook_tqdm\n"
     ]
    }
   ],
   "source": [
    "from matplotlib import pyplot as plt\n",
    "import selfies as sf\n",
    "import mutations as mut\n",
    "from functools import partial\n",
    "import metrics as met\n",
    "import functions as fn\n",
    "from constants import *\n",
    "from rdkit import Chem\n",
    "from rdkit.Chem import Draw\n",
    "import seaborn as sns\n",
    "import pandas as pd\n",
    "from datetime import datetime\n",
    "import time\n",
    "from tqdm import tqdm\n",
    "from guacamol import standard_benchmarks\n",
    "import numpy as np\n",
    "import random\n",
    "from copy import copy\n",
    "import crossovers as xo"
   ]
  },
  {
   "cell_type": "code",
   "execution_count": 3,
   "metadata": {},
   "outputs": [],
   "source": [
    "SEED_SIZE_LIST = [10, 100, 1000, 10000, 100000]\n",
    "SEED_SIZE = SEED_SIZE_LIST[1]\n",
    "SEED_LIST = [0,1,2]\n",
    "SEED = SEED_LIST[2]\n",
    "BUDGET_LIST = [100, 1000, 10000, 100000]\n",
    "BUDGET = BUDGET_LIST[2]\n",
    "GENERATIONS = 50\n",
    "\n",
    "\n",
    "\n",
    "\n",
    "SAVE = True"
   ]
  },
  {
   "cell_type": "code",
   "execution_count": null,
   "metadata": {},
   "outputs": [],
   "source": []
  },
  {
   "attachments": {},
   "cell_type": "markdown",
   "metadata": {},
   "source": [
    "# Single metric optimization"
   ]
  },
  {
   "cell_type": "code",
   "execution_count": 4,
   "metadata": {},
   "outputs": [],
   "source": [
    "#f = standard_benchmarks.zaleplon_with_other_formula().objective.score_list()\n",
    "celecoxib = 'O=S(=O)(c3ccc(n1nc(cc1c2ccc(cc2)C)C(F)(F)F)cc3)N'\n",
    "troglitazone = 'O=C1NC(=O)SC1Cc4ccc(OCC3(Oc2c(c(c(O)c(c2CC3)C)C)C)C)cc4'\n",
    "metric_function_list = [\n",
    "    partial(standard_benchmarks.median_tadalafil_sildenafil().objective.score_list)\n",
    "    #partial(met.compound_similarity,target_smile = troglitazone)\n",
    "]\n",
    "metrics = ['Metric 1']"
   ]
  },
  {
   "cell_type": "code",
   "execution_count": 5,
   "metadata": {},
   "outputs": [],
   "source": [
    "mutation_function_list = [\n",
    "    partial(mut.replacement)\n",
    "    ,partial(mut.addition,fragment_size=1,rings=False)\n",
    "    ,partial(mut.deletion,n=1)\n",
    "]"
   ]
  },
  {
   "cell_type": "code",
   "execution_count": 6,
   "metadata": {},
   "outputs": [],
   "source": [
    "hyperparameters_range = {\n",
    "    'first_generation_fraction': 0.05,\n",
    "    'crossover': True,\n",
    "    'crossover_ratio': 0.2,\n",
    "    'next_generation_fraction': 0.05,\n",
    "    'initial_sample_fraction': 1.5,\n",
    "    'minimal_next_generation_fraction': 0.0025,\n",
    "    'max_gens': 500,\n",
    "    'percent_best_fraction': 0.1,\n",
    "    'include_initial_pop': False\n",
    "}\n"
   ]
  },
  {
   "cell_type": "code",
   "execution_count": 15,
   "metadata": {},
   "outputs": [],
   "source": [
    "current_dateTime = datetime.now()\n",
    "time_format = f\"{current_dateTime.date()}_{str(current_dateTime.hour).zfill(2)}-{str(current_dateTime.minute).zfill(2)}-{str(current_dateTime.second).zfill(2)}\"\n",
    "def eval(hyperparameters, seed=0):\n",
    "    for SEED in [SEED_LIST[seed]]:#SEED_LIST[1:]:\n",
    "        for SEED_SIZE in [SEED_SIZE_LIST[2]]:#SEED_SIZE_LIST[1:]:#[SEED_SIZE_LIST[1]]:#\n",
    "            SEED_PATH = f\"../data/seed_{SEED}/rand_{SEED_SIZE}.tsv\"\n",
    "            seed_df = pd.read_table(SEED_PATH) \n",
    "            initial_pop = fn.convert_seeds_to_df(seed_df,metric_function_list)\n",
    "            for BUDGET in [BUDGET_LIST[1]]:#BUDGET_LIST[:4]:#BUDGET_LIST[:4]#\n",
    "                setup_name = f\"seed_{SEED}_rand_{SEED_SIZE}\"\n",
    "                file_name = f\"{time_format}_{setup_name}_budget_{BUDGET}\"\n",
    "                B0 = copy(BUDGET)\n",
    "                generation = 0\n",
    "                t0 = time.time()\n",
    "                \n",
    "                first_generation_fraction = hyperparameters['first_generation_fraction'] \n",
    "                crossover_ratio = hyperparameters['crossover_ratio']\n",
    "                next_generation_fraction = hyperparameters['next_generation_fraction']\n",
    "                initial_sample_fraction = hyperparameters['initial_sample_fraction']\n",
    "                minimal_next_generation_fraction = hyperparameters['minimal_next_generation_fraction']\n",
    "\n",
    "                percent_best_fraction = hyperparameters['percent_best_fraction']\n",
    "\n",
    "                N = int(BUDGET * first_generation_fraction) #1st generation size\n",
    "                if len(initial_pop)>=N:\n",
    "                    initial_best = initial_pop.head(N)\n",
    "                else:\n",
    "                    initial_best = initial_pop\n",
    "                gen_history = pd.DataFrame(initial_best)\n",
    "                temp_best = initial_best.copy(deep=True)\n",
    "                cost_history = []\n",
    "\n",
    "\n",
    "                pbar = tqdm(desc=f\"Working with budget of {B0}\",\n",
    "                            total=B0)\n",
    "                while (BUDGET > len(temp_best)):\n",
    "                    #percentage_done = round(np.floor((B0-BUDGET)/B0*1000)/10,2)\n",
    "                    #print(f\"{percentage_done}% done\")\n",
    "                    diversity = fn.get_last_diversity(temp_best)\n",
    "                    homogenity = 1 - diversity\n",
    "\n",
    "                    #crossover_ratio =  0.1#0.01 + ((diversity)/10)\n",
    "                    #print(f'crossover_ratio = {crossover_ratio}, N={N}')\n",
    "\n",
    "                    temp_pop, cost = fn.populate_from_df(temp_best,N,metric_function_list,mutation_function_list,\n",
    "                                                generation+1,include_seeds=True,fitness='Metric 1',crossover=True, crossover_type=0,\n",
    "                                                crossover_ratio=crossover_ratio, fitness_proportional = True)\n",
    "                    cost_history.append(cost)\n",
    "                    BUDGET -= cost\n",
    "                    temp_pop.reset_index(drop=True,inplace=True)\n",
    "\n",
    "\n",
    "                    #if homogenity>0:\n",
    "                    #    temp_best = fn.get_percent_best(temp_pop, metrics,0.05+((homogenity**2)/2),minimize=False)\n",
    "                    #else:\n",
    "                    temp_best = fn.get_percent_best(temp_pop, metrics,percent_best_fraction,minimize=False)\n",
    "                    gen_history = pd.concat([gen_history,temp_best])\n",
    "                    \n",
    "                    \n",
    "                    \n",
    "                    if initial_sample_fraction>0:\n",
    "                        initial_sample_size = int(np.ceil(  len(temp_best) *  initial_sample_fraction   ))\n",
    "                        #initial_sample_size = 3 * int(np.ceil( len(temp_best)* homogenity**2  ))\n",
    "                        #if initial_sample_size>len(initial_pop):\n",
    "                        #    initial_sample_size = len(initial_pop)\n",
    "\n",
    "                        temp_best = pd.concat([temp_best, initial_pop.sample(initial_sample_size)])\n",
    "\n",
    "                \n",
    "                    #if homogenity==0:\n",
    "                    N = int(np.ceil(BUDGET * next_generation_fraction))\n",
    "                        #print(f\"homo {homogenity} , N {N}\")\n",
    "                    #else:\n",
    "                    #    N = int(np.ceil(BUDGET * 0.1  * homogenity))\n",
    "                        #print(f\"no homo N {N}\")\n",
    "                    #print(f\"------- {N} ------- BUDGET / GENERATIONS {BUDGET / GENERATIONS} * homogenity {homogenity} + 0.1  = {(BUDGET / GENERATIONS) * homogenity + 0.1}\")\n",
    "                    if N<=int(np.ceil(minimal_next_generation_fraction*B0)):\n",
    "                        N = int(np.ceil(minimal_next_generation_fraction*B0))\n",
    "                    pbar.update(cost)\n",
    "                    generation += 1\n",
    "                    if generation>=500:\n",
    "                        break\n",
    "                pbar.update(BUDGET)\n",
    "                pbar.close()\n",
    "                print(f\"Done in {time.time()-t0}\")\n",
    "                #if SAVE:\n",
    "                #    gen_history.to_csv(\"out_exp/\"+file_name+\".csv\")\n",
    "\n",
    "    ###\n",
    "    latest_gen = gen_history[gen_history['Generation']==gen_history['Generation'].max()]\n",
    "    #latest_gen.head()\n",
    "    return float(latest_gen.head(1)['Metric 1'])\n"
   ]
  },
  {
   "cell_type": "code",
   "execution_count": 8,
   "metadata": {},
   "outputs": [
    {
     "name": "stderr",
     "output_type": "stream",
     "text": [
      "Working with budget of 1000: 100%|██████████| 1000/1000 [00:07<00:00, 133.97it/s]\n"
     ]
    },
    {
     "name": "stdout",
     "output_type": "stream",
     "text": [
      "Done in 7.467577695846558\n",
      "0.224289330760265\n"
     ]
    },
    {
     "name": "stderr",
     "output_type": "stream",
     "text": [
      "Working with budget of 1000: 100%|██████████| 1000/1000 [00:08<00:00, 119.77it/s]\n"
     ]
    },
    {
     "name": "stdout",
     "output_type": "stream",
     "text": [
      "Done in 8.351029396057129\n",
      "0.23945038904205695\n"
     ]
    },
    {
     "name": "stderr",
     "output_type": "stream",
     "text": [
      "Working with budget of 1000: 100%|██████████| 1000/1000 [00:08<00:00, 124.04it/s]"
     ]
    },
    {
     "name": "stdout",
     "output_type": "stream",
     "text": [
      "Done in 8.063612461090088\n",
      "0.21551765683383306\n"
     ]
    },
    {
     "name": "stderr",
     "output_type": "stream",
     "text": [
      "\n"
     ]
    }
   ],
   "source": [
    "\n",
    "for SEED in SEED_LIST:\n",
    "    print(eval(hyperparameters_range,SEED))"
   ]
  },
  {
   "cell_type": "code",
   "execution_count": 9,
   "metadata": {},
   "outputs": [],
   "source": [
    "import pandas as pd\n",
    "\n",
    "def create_dataframe(hyperparameters, algorithm_output):\n",
    "    # Append the algorithm output to the hyperparameters dictionary\n",
    "    hyperparameters['Algorithm Output'] = algorithm_output\n",
    "\n",
    "    # Create a pandas DataFrame from the dictionary\n",
    "    # The keys of the dictionary become the column names, and the values become the row values\n",
    "    df = pd.DataFrame(hyperparameters, index=[0])\n",
    "\n",
    "    return df\n"
   ]
  },
  {
   "cell_type": "code",
   "execution_count": 10,
   "metadata": {},
   "outputs": [
    {
     "name": "stdout",
     "output_type": "stream",
     "text": [
      "   Learning Rate  Epochs  Regularization  Algorithm Output\n",
      "0           0.01     100            True              0.85\n"
     ]
    }
   ],
   "source": [
    "hyperparameters_range = {\n",
    "    'Learning Rate': 0.01,\n",
    "    'Epochs': 100,\n",
    "    'Regularization': True\n",
    "}\n",
    "algorithm_output = 0.85\n",
    "\n",
    "df = create_dataframe(hyperparameters_range, algorithm_output)\n",
    "print(df)\n"
   ]
  },
  {
   "cell_type": "code",
   "execution_count": 11,
   "metadata": {},
   "outputs": [],
   "source": [
    "first_generation_fraction = [0.05, 0.10, 0.2]\n",
    "crossover_ratio = [0, 0.1, 0.2, 0.4]\n",
    "next_generation_fraction = [0.05, 0.10, 0.2]\n",
    "initial_sample_fraction = [1.0, 2.0, 3.0]\n",
    "minimal_next_generation_fraction = [0.0025, 0.01]\n",
    "percent_best_fraction = [0.05, 0.1, 0.15, 0.2]\n",
    "\n",
    "hyperparameters_range = {\n",
    "    'first_generation_fraction': 0.05,\n",
    "    'crossover': True,\n",
    "    'crossover_ratio': 0.2,\n",
    "    'next_generation_fraction': 0.05,\n",
    "    'initial_sample_fraction': 1.5,\n",
    "    'minimal_next_generation_fraction': 0.0025,\n",
    "    'max_gens': 500,\n",
    "    'percent_best_fraction': 0.1,\n",
    "    'include_initial_pop': False\n",
    "}"
   ]
  },
  {
   "cell_type": "code",
   "execution_count": 16,
   "metadata": {},
   "outputs": [],
   "source": [
    "import random\n",
    "\n",
    "hyperparameter_spaces = {\n",
    "    'first_generation_fraction': [0.05, 0.10, 0.2],\n",
    "    'crossover_ratio': [0, 0.1, 0.2, 0.4],\n",
    "    'next_generation_fraction': [0.05, 0.10, 0.2],\n",
    "    'initial_sample_fraction': [0.0, 1.0, 2.0, 3.0],\n",
    "    'minimal_next_generation_fraction': [0.0025, 0.01],\n",
    "    'percent_best_fraction': [0.05, 0.1, 0.15, 0.2]\n",
    "}\n",
    "mutation_ratio = 0.25\n",
    "\n",
    "def generate_random_hyperparameters():\n",
    "    return {k: random.choice(v) for k, v in hyperparameter_spaces.items()}\n",
    "\n",
    "def crossover(hyperparameters1, hyperparameters2):\n",
    "    return {k: random.choice([v1, v2]) for (k, v1), (_, v2) in zip(hyperparameters1.items(), hyperparameters2.items())}\n",
    "\n",
    "def mutate(hyperparameters):\n",
    "    parameter_to_mutate = random.choice(list(hyperparameters.keys()))\n",
    "    hyperparameters[parameter_to_mutate] = random.choice(hyperparameter_spaces[parameter_to_mutate])\n",
    "    return hyperparameters\n",
    "\n",
    "def evolutionary_search(eval, population_size, num_generations):\n",
    "    population = [generate_random_hyperparameters() for _ in range(population_size)]\n",
    "    for _ in range(num_generations):\n",
    "        fitnesses = [eval(h) for h in population]\n",
    "        best_index = fitnesses.index(max(fitnesses))\n",
    "        next_generation = [population[best_index]]\n",
    "        while len(next_generation) < population_size:\n",
    "            if random.random() < crossover_ratio:\n",
    "                parent1, parent2 = random.choices(population, k=2)\n",
    "                offspring = crossover(parent1, parent2)\n",
    "            else:\n",
    "                offspring = generate_random_hyperparameters()\n",
    "            if random.random() < mutation_ratio:\n",
    "                offspring = mutate(offspring)\n",
    "            next_generation.append(offspring)\n",
    "        population = next_generation\n",
    "    best_hyperparameters = max(population, key=eval)\n",
    "    return best_hyperparameters\n"
   ]
  },
  {
   "cell_type": "code",
   "execution_count": 17,
   "metadata": {},
   "outputs": [
    {
     "name": "stderr",
     "output_type": "stream",
     "text": [
      "Working with budget of 1000: 100%|██████████| 1000/1000 [00:07<00:00, 128.46it/s]\n"
     ]
    },
    {
     "name": "stdout",
     "output_type": "stream",
     "text": [
      "Done in 7.7846527099609375\n"
     ]
    },
    {
     "name": "stderr",
     "output_type": "stream",
     "text": [
      "Working with budget of 1000: 100%|██████████| 1000/1000 [00:08<00:00, 113.42it/s]\n"
     ]
    },
    {
     "name": "stdout",
     "output_type": "stream",
     "text": [
      "Done in 8.816608428955078\n"
     ]
    },
    {
     "name": "stderr",
     "output_type": "stream",
     "text": [
      "Working with budget of 1000: 100%|██████████| 1000/1000 [00:05<00:00, 178.47it/s]\n"
     ]
    },
    {
     "name": "stdout",
     "output_type": "stream",
     "text": [
      "Done in 5.603183269500732\n"
     ]
    },
    {
     "name": "stderr",
     "output_type": "stream",
     "text": [
      "Working with budget of 1000: 100%|██████████| 1000/1000 [00:12<00:00, 78.07it/s]\n"
     ]
    },
    {
     "name": "stdout",
     "output_type": "stream",
     "text": [
      "Done in 12.809284925460815\n"
     ]
    },
    {
     "name": "stderr",
     "output_type": "stream",
     "text": [
      "Working with budget of 1000: 100%|██████████| 1000/1000 [00:10<00:00, 92.53it/s]\n"
     ]
    },
    {
     "name": "stdout",
     "output_type": "stream",
     "text": [
      "Done in 10.807486772537231\n"
     ]
    },
    {
     "name": "stderr",
     "output_type": "stream",
     "text": [
      "Working with budget of 1000: 100%|██████████| 1000/1000 [00:09<00:00, 103.41it/s]\n"
     ]
    },
    {
     "name": "stdout",
     "output_type": "stream",
     "text": [
      "Done in 9.670337438583374\n"
     ]
    },
    {
     "name": "stderr",
     "output_type": "stream",
     "text": [
      "Working with budget of 1000: 100%|██████████| 1000/1000 [00:03<00:00, 311.33it/s]\n"
     ]
    },
    {
     "name": "stdout",
     "output_type": "stream",
     "text": [
      "Done in 3.2199950218200684\n"
     ]
    },
    {
     "name": "stderr",
     "output_type": "stream",
     "text": [
      "Working with budget of 1000: 100%|██████████| 1000/1000 [00:06<00:00, 149.35it/s]\n"
     ]
    },
    {
     "name": "stdout",
     "output_type": "stream",
     "text": [
      "Done in 6.695791482925415\n"
     ]
    },
    {
     "name": "stderr",
     "output_type": "stream",
     "text": [
      "Working with budget of 1000: 100%|██████████| 1000/1000 [00:03<00:00, 295.14it/s]\n"
     ]
    },
    {
     "name": "stdout",
     "output_type": "stream",
     "text": [
      "Done in 3.388165235519409\n"
     ]
    },
    {
     "name": "stderr",
     "output_type": "stream",
     "text": [
      "Working with budget of 1000: 100%|██████████| 1000/1000 [00:06<00:00, 158.70it/s]"
     ]
    },
    {
     "name": "stdout",
     "output_type": "stream",
     "text": [
      "Done in 6.309215307235718\n"
     ]
    },
    {
     "name": "stderr",
     "output_type": "stream",
     "text": [
      "\n"
     ]
    },
    {
     "ename": "TypeError",
     "evalue": "'<' not supported between instances of 'float' and 'list'",
     "output_type": "error",
     "traceback": [
      "\u001b[1;31m---------------------------------------------------------------------------\u001b[0m",
      "\u001b[1;31mTypeError\u001b[0m                                 Traceback (most recent call last)",
      "Cell \u001b[1;32mIn[17], line 1\u001b[0m\n\u001b[1;32m----> 1\u001b[0m evolutionary_search(\u001b[39meval\u001b[39;49m,\u001b[39m10\u001b[39;49m,\u001b[39m3\u001b[39;49m)\n",
      "Cell \u001b[1;32mIn[16], line 31\u001b[0m, in \u001b[0;36mevolutionary_search\u001b[1;34m(eval, population_size, num_generations)\u001b[0m\n\u001b[0;32m     29\u001b[0m next_generation \u001b[39m=\u001b[39m [population[best_index]]\n\u001b[0;32m     30\u001b[0m \u001b[39mwhile\u001b[39;00m \u001b[39mlen\u001b[39m(next_generation) \u001b[39m<\u001b[39m population_size:\n\u001b[1;32m---> 31\u001b[0m     \u001b[39mif\u001b[39;00m random\u001b[39m.\u001b[39;49mrandom() \u001b[39m<\u001b[39;49m crossover_ratio:\n\u001b[0;32m     32\u001b[0m         parent1, parent2 \u001b[39m=\u001b[39m random\u001b[39m.\u001b[39mchoices(population, k\u001b[39m=\u001b[39m\u001b[39m2\u001b[39m)\n\u001b[0;32m     33\u001b[0m         offspring \u001b[39m=\u001b[39m crossover(parent1, parent2)\n",
      "\u001b[1;31mTypeError\u001b[0m: '<' not supported between instances of 'float' and 'list'"
     ]
    }
   ],
   "source": [
    "evolutionary_search(eval,10,3)"
   ]
  },
  {
   "cell_type": "code",
   "execution_count": 18,
   "metadata": {},
   "outputs": [
    {
     "name": "stderr",
     "output_type": "stream",
     "text": [
      "Working with budget of 1000: 100%|██████████| 1000/1000 [00:03<00:00, 253.90it/s]\n"
     ]
    },
    {
     "name": "stdout",
     "output_type": "stream",
     "text": [
      "Done in 3.9465279579162598\n"
     ]
    },
    {
     "name": "stderr",
     "output_type": "stream",
     "text": [
      "Working with budget of 1000: 100%|██████████| 1000/1000 [00:12<00:00, 78.90it/s]\n"
     ]
    },
    {
     "name": "stdout",
     "output_type": "stream",
     "text": [
      "Done in 12.674926280975342\n"
     ]
    },
    {
     "name": "stderr",
     "output_type": "stream",
     "text": [
      "Working with budget of 1000: 100%|██████████| 1000/1000 [00:11<00:00, 84.38it/s]\n"
     ]
    },
    {
     "name": "stdout",
     "output_type": "stream",
     "text": [
      "Done in 11.85953164100647\n"
     ]
    },
    {
     "name": "stderr",
     "output_type": "stream",
     "text": [
      "Working with budget of 1000: 100%|██████████| 1000/1000 [00:06<00:00, 150.44it/s]\n"
     ]
    },
    {
     "name": "stdout",
     "output_type": "stream",
     "text": [
      "Done in 6.647111892700195\n"
     ]
    },
    {
     "name": "stderr",
     "output_type": "stream",
     "text": [
      "Working with budget of 1000: 100%|██████████| 1000/1000 [00:02<00:00, 344.73it/s]\n"
     ]
    },
    {
     "name": "stdout",
     "output_type": "stream",
     "text": [
      "Done in 2.900822639465332\n"
     ]
    },
    {
     "name": "stderr",
     "output_type": "stream",
     "text": [
      "Working with budget of 1000: 100%|██████████| 1000/1000 [00:07<00:00, 141.86it/s]\n"
     ]
    },
    {
     "name": "stdout",
     "output_type": "stream",
     "text": [
      "Done in 7.048993110656738\n"
     ]
    },
    {
     "name": "stderr",
     "output_type": "stream",
     "text": [
      "Working with budget of 1000: 100%|██████████| 1000/1000 [00:04<00:00, 203.91it/s]\n"
     ]
    },
    {
     "name": "stdout",
     "output_type": "stream",
     "text": [
      "Done in 4.904177188873291\n"
     ]
    },
    {
     "name": "stderr",
     "output_type": "stream",
     "text": [
      "Working with budget of 1000: 100%|██████████| 1000/1000 [00:03<00:00, 301.86it/s]\n"
     ]
    },
    {
     "name": "stdout",
     "output_type": "stream",
     "text": [
      "Done in 3.3208303451538086\n"
     ]
    },
    {
     "name": "stderr",
     "output_type": "stream",
     "text": [
      "Working with budget of 1000: 100%|██████████| 1000/1000 [00:05<00:00, 196.46it/s]\n"
     ]
    },
    {
     "name": "stdout",
     "output_type": "stream",
     "text": [
      "Done in 5.106179714202881\n"
     ]
    },
    {
     "name": "stderr",
     "output_type": "stream",
     "text": [
      "Working with budget of 1000: 100%|██████████| 1000/1000 [00:04<00:00, 209.05it/s]\n"
     ]
    },
    {
     "name": "stdout",
     "output_type": "stream",
     "text": [
      "Done in 4.7912843227386475\n"
     ]
    },
    {
     "name": "stderr",
     "output_type": "stream",
     "text": [
      "Working with budget of 1000: 100%|██████████| 1000/1000 [00:04<00:00, 230.14it/s]\n"
     ]
    },
    {
     "name": "stdout",
     "output_type": "stream",
     "text": [
      "Done in 4.345175743103027\n"
     ]
    },
    {
     "name": "stderr",
     "output_type": "stream",
     "text": [
      "Working with budget of 1000: 100%|██████████| 1000/1000 [00:03<00:00, 296.41it/s]\n"
     ]
    },
    {
     "name": "stdout",
     "output_type": "stream",
     "text": [
      "Done in 3.3736579418182373\n"
     ]
    },
    {
     "name": "stderr",
     "output_type": "stream",
     "text": [
      "Working with budget of 1000: 100%|██████████| 1000/1000 [00:07<00:00, 137.41it/s]\n"
     ]
    },
    {
     "name": "stdout",
     "output_type": "stream",
     "text": [
      "Done in 7.277475118637085\n"
     ]
    },
    {
     "name": "stderr",
     "output_type": "stream",
     "text": [
      "Working with budget of 1000: 100%|██████████| 1000/1000 [00:07<00:00, 141.51it/s]\n"
     ]
    },
    {
     "name": "stdout",
     "output_type": "stream",
     "text": [
      "Done in 7.066479921340942\n"
     ]
    },
    {
     "name": "stderr",
     "output_type": "stream",
     "text": [
      "Working with budget of 1000: 100%|██████████| 1000/1000 [00:05<00:00, 169.95it/s]\n"
     ]
    },
    {
     "name": "stdout",
     "output_type": "stream",
     "text": [
      "Done in 5.883950710296631\n"
     ]
    },
    {
     "name": "stderr",
     "output_type": "stream",
     "text": [
      "Working with budget of 1000: 100%|██████████| 1000/1000 [00:06<00:00, 143.15it/s]\n"
     ]
    },
    {
     "name": "stdout",
     "output_type": "stream",
     "text": [
      "Done in 6.9856789112091064\n"
     ]
    },
    {
     "name": "stderr",
     "output_type": "stream",
     "text": [
      "Working with budget of 1000: 100%|██████████| 1000/1000 [00:10<00:00, 92.27it/s]\n"
     ]
    },
    {
     "name": "stdout",
     "output_type": "stream",
     "text": [
      "Done in 10.838303565979004\n"
     ]
    },
    {
     "name": "stderr",
     "output_type": "stream",
     "text": [
      "Working with budget of 1000: 100%|██████████| 1000/1000 [00:11<00:00, 90.20it/s]\n"
     ]
    },
    {
     "name": "stdout",
     "output_type": "stream",
     "text": [
      "Done in 11.086402893066406\n"
     ]
    },
    {
     "name": "stderr",
     "output_type": "stream",
     "text": [
      "Working with budget of 1000: 100%|██████████| 1000/1000 [00:15<00:00, 65.90it/s]\n"
     ]
    },
    {
     "name": "stdout",
     "output_type": "stream",
     "text": [
      "Done in 15.174853563308716\n"
     ]
    },
    {
     "name": "stderr",
     "output_type": "stream",
     "text": [
      "Working with budget of 1000: 100%|██████████| 1000/1000 [00:06<00:00, 150.66it/s]\n"
     ]
    },
    {
     "name": "stdout",
     "output_type": "stream",
     "text": [
      "Done in 6.637535810470581\n"
     ]
    },
    {
     "name": "stderr",
     "output_type": "stream",
     "text": [
      "Working with budget of 1000: 100%|██████████| 1000/1000 [00:07<00:00, 132.08it/s]\n"
     ]
    },
    {
     "name": "stdout",
     "output_type": "stream",
     "text": [
      "Done in 7.571267604827881\n"
     ]
    },
    {
     "name": "stderr",
     "output_type": "stream",
     "text": [
      "Working with budget of 1000: 100%|██████████| 1000/1000 [00:10<00:00, 97.40it/s]\n"
     ]
    },
    {
     "name": "stdout",
     "output_type": "stream",
     "text": [
      "Done in 10.26664137840271\n"
     ]
    },
    {
     "name": "stderr",
     "output_type": "stream",
     "text": [
      "Working with budget of 1000: 100%|██████████| 1000/1000 [00:11<00:00, 87.02it/s]\n"
     ]
    },
    {
     "name": "stdout",
     "output_type": "stream",
     "text": [
      "Done in 11.491799116134644\n"
     ]
    },
    {
     "name": "stderr",
     "output_type": "stream",
     "text": [
      "Working with budget of 1000: 100%|██████████| 1000/1000 [00:03<00:00, 289.13it/s]\n"
     ]
    },
    {
     "name": "stdout",
     "output_type": "stream",
     "text": [
      "Done in 3.458672523498535\n"
     ]
    },
    {
     "name": "stderr",
     "output_type": "stream",
     "text": [
      "Working with budget of 1000: 100%|██████████| 1000/1000 [00:03<00:00, 299.37it/s]\n"
     ]
    },
    {
     "name": "stdout",
     "output_type": "stream",
     "text": [
      "Done in 3.340378761291504\n"
     ]
    },
    {
     "name": "stderr",
     "output_type": "stream",
     "text": [
      "Working with budget of 1000: 100%|██████████| 1000/1000 [00:12<00:00, 81.32it/s]\n"
     ]
    },
    {
     "name": "stdout",
     "output_type": "stream",
     "text": [
      "Done in 12.305607080459595\n"
     ]
    },
    {
     "name": "stderr",
     "output_type": "stream",
     "text": [
      "Working with budget of 1000: 100%|██████████| 1000/1000 [00:03<00:00, 306.84it/s]\n"
     ]
    },
    {
     "name": "stdout",
     "output_type": "stream",
     "text": [
      "Done in 3.2590415477752686\n"
     ]
    },
    {
     "name": "stderr",
     "output_type": "stream",
     "text": [
      "Working with budget of 1000: 100%|██████████| 1000/1000 [00:10<00:00, 92.95it/s]\n"
     ]
    },
    {
     "name": "stdout",
     "output_type": "stream",
     "text": [
      "Done in 10.759009599685669\n"
     ]
    },
    {
     "name": "stderr",
     "output_type": "stream",
     "text": [
      "Working with budget of 1000: 100%|██████████| 1000/1000 [00:09<00:00, 110.25it/s]\n"
     ]
    },
    {
     "name": "stdout",
     "output_type": "stream",
     "text": [
      "Done in 9.07060432434082\n"
     ]
    },
    {
     "name": "stderr",
     "output_type": "stream",
     "text": [
      "Working with budget of 1000: 100%|██████████| 1000/1000 [00:03<00:00, 306.21it/s]"
     ]
    },
    {
     "name": "stdout",
     "output_type": "stream",
     "text": [
      "Done in 3.2656939029693604\n",
      "Best hyperparameters: {'first_generation_fraction': 0.1, 'crossover_ratio': 0.4, 'next_generation_fraction': 0.05, 'initial_sample_fraction': 1.0, 'minimal_next_generation_fraction': 0.0025, 'percent_best_fraction': 0.1}\n"
     ]
    },
    {
     "name": "stderr",
     "output_type": "stream",
     "text": [
      "\n"
     ]
    }
   ],
   "source": [
    "import numpy as np\n",
    "import random\n",
    "\n",
    "# Defining hyperparameters and their possible values\n",
    "hyperparameters_range = {\n",
    "    'first_generation_fraction' : [0.05, 0.10, 0.2],\n",
    "    'crossover_ratio' : [0, 0.1, 0.2, 0.4],\n",
    "    'next_generation_fraction' : [0.05, 0.10, 0.2],\n",
    "    'initial_sample_fraction' : [1.0, 2.0, 3.0],\n",
    "    'minimal_next_generation_fraction' : [0.0025, 0.01],\n",
    "    'percent_best_fraction' : [0.05, 0.1, 0.15, 0.2]\n",
    "}\n",
    "\n",
    "# Defining parameters for the evolutionary algorithm\n",
    "POPULATION_SIZE = 20\n",
    "MUTATION_RATE = 0.1\n",
    "NUM_GENERATIONS = 5\n",
    "\n",
    "def median_eval(hyperparameters):\n",
    "    evl = []\n",
    "    for SEED in SEED_LIST:\n",
    "        evl.append(eval(hyperparameters))\n",
    "    return np.median(evl)\n",
    "\n",
    "def create_individual(hyperparameters):\n",
    "    return {hp: np.random.choice(values) for hp, values in hyperparameters.items()}\n",
    "\n",
    "def create_population(hyperparameters, size):\n",
    "    return [create_individual(hyperparameters) for _ in range(size)]\n",
    "\n",
    "def select_parents(population):\n",
    "    # Select two parents at random\n",
    "    return random.sample(population, 2)\n",
    "\n",
    "def crossover(parent1, parent2):\n",
    "    # Single point crossover\n",
    "    child = {}\n",
    "    crossover_point = len(parent1) // 2\n",
    "    for i, key in enumerate(parent1):\n",
    "        child[key] = parent1[key] if i < crossover_point else parent2[key]\n",
    "    return child\n",
    "\n",
    "def mutate(individual, hyperparameters):\n",
    "    # Randomly change one hyperparameter\n",
    "    if np.random.rand() < MUTATION_RATE:\n",
    "        mutation_param = np.random.choice(list(hyperparameters.keys()))\n",
    "        individual[mutation_param] = np.random.choice(hyperparameters[mutation_param])\n",
    "    return individual\n",
    "\n",
    "# Initialize population\n",
    "population = create_population(hyperparameters_range, POPULATION_SIZE)\n",
    "\n",
    "# Main genetic algorithm loop\n",
    "for _ in range(NUM_GENERATIONS):\n",
    "    # Evaluate population and sort by fitness\n",
    "    population = sorted(population, key=lambda x: median_eval(x), reverse=True)\n",
    "    \n",
    "    # Crossover and mutation\n",
    "    next_generation = []\n",
    "    while len(next_generation) < POPULATION_SIZE:\n",
    "        parent1, parent2 = select_parents(population[:POPULATION_SIZE // 2])\n",
    "        child = crossover(parent1, parent2)\n",
    "        child = mutate(child, hyperparameters_range)\n",
    "        next_generation.append(child)\n",
    "    population = next_generation\n",
    "\n",
    "# After all generations, the best individual is at the top of the sorted population\n",
    "best_hyperparameters = population[0]\n",
    "print(f'Best hyperparameters: {best_hyperparameters}')\n"
   ]
  },
  {
   "cell_type": "code",
   "execution_count": 22,
   "metadata": {},
   "outputs": [
    {
     "name": "stderr",
     "output_type": "stream",
     "text": [
      "Working with budget of 1000: 100%|██████████| 1000/1000 [00:11<00:00, 83.76it/s]\n"
     ]
    },
    {
     "name": "stdout",
     "output_type": "stream",
     "text": [
      "Done in 11.938983917236328\n"
     ]
    },
    {
     "name": "stderr",
     "output_type": "stream",
     "text": [
      "Working with budget of 1000: 100%|██████████| 1000/1000 [00:10<00:00, 93.82it/s]\n"
     ]
    },
    {
     "name": "stdout",
     "output_type": "stream",
     "text": [
      "Done in 10.666263341903687\n"
     ]
    },
    {
     "name": "stderr",
     "output_type": "stream",
     "text": [
      "Working with budget of 1000: 100%|██████████| 1000/1000 [00:11<00:00, 90.64it/s]"
     ]
    },
    {
     "name": "stdout",
     "output_type": "stream",
     "text": [
      "Done in 11.034534931182861\n",
      "[0.2195285199793807, 0.22884042849156705, 0.21212944742725728]\n"
     ]
    },
    {
     "name": "stderr",
     "output_type": "stream",
     "text": [
      "\n"
     ]
    }
   ],
   "source": [
    "hps = {'first_generation_fraction': 0.1, 'crossover_ratio': 0.4, 'next_generation_fraction': 0.05, 'initial_sample_fraction': 1.0, 'minimal_next_generation_fraction': 0.0025, 'percent_best_fraction': 0.1}\n",
    "evl = []\n",
    "for SEED in SEED_LIST:\n",
    "    evl.append(eval(hps))\n",
    "print(evl)"
   ]
  },
  {
   "cell_type": "code",
   "execution_count": null,
   "metadata": {},
   "outputs": [],
   "source": [
    "import numpy as np\n",
    "import random\n",
    "\n",
    "# Defining hyperparameters and their possible values\n",
    "hyperparameters_range = {\n",
    "    'first_generation_fraction' : [0.05, 0.10, 0.2],\n",
    "    'crossover_ratio' : [0, 0.1, 0.2, 0.4],\n",
    "    'next_generation_fraction' : [0.05, 0.10, 0.2],\n",
    "    'initial_sample_fraction' : [1.0, 2.0, 3.0],\n",
    "    'minimal_next_generation_fraction' : [0.0025, 0.01],\n",
    "    'percent_best_fraction' : [0.05, 0.1, 0.15, 0.2]\n",
    "}\n",
    "\n",
    "# Defining parameters for the evolutionary algorithm\n",
    "POPULATION_SIZE = 20\n",
    "MUTATION_RATE = 0.1\n",
    "NUM_GENERATIONS = 5\n",
    "ELITE_SIZE = 2\n",
    "TOURNAMENT_SIZE = 4\n",
    "\n",
    "def median_eval(hyperparameters):\n",
    "    evl = []\n",
    "    for SEED in SEED_LIST:\n",
    "        evl.append(eval(hyperparameters))\n",
    "    return np.median(evl)\n",
    "\n",
    "def create_individual(hyperparameters):\n",
    "    return {hp: np.random.choice(values) for hp, values in hyperparameters.items()}\n",
    "\n",
    "def create_population(hyperparameters, size):\n",
    "    return [create_individual(hyperparameters) for _ in range(size)]\n",
    "\n",
    "def tournament_selection(population, tournament_size):\n",
    "    # Select tournament_size individuals and return the best\n",
    "    return max(random.sample(population, tournament_size), key=median_eval)\n",
    "\n",
    "def crossover(parent1, parent2):\n",
    "    # Multiple points crossover\n",
    "    child = {}\n",
    "    for key in parent1:\n",
    "        child[key] = np.random.choice([parent1[key], parent2[key]])\n",
    "    return child\n",
    "\n",
    "def mutate(individual, hyperparameters):\n",
    "    # Randomly change one hyperparameter\n",
    "    if np.random.rand() < MUTATION_RATE:\n",
    "        mutation_param = np.random.choice(list(hyperparameters.keys()))\n",
    "        individual[mutation_param] = np.random.choice(hyperparameters[mutation_param])\n",
    "    return individual\n",
    "\n",
    "# Initialize population\n",
    "population = create_population(hyperparameters_range, POPULATION_SIZE)\n",
    "\n",
    "# Main genetic algorithm loop\n",
    "for _ in range(NUM_GENERATIONS):\n",
    "    # Evaluate population and sort by fitness\n",
    "    population = sorted(population, key=lambda x: median_eval(x), reverse=True)\n",
    "\n",
    "    # Elitism: carry the best individuals to the next generation\n",
    "    next_generation = population[:ELITE_SIZE]\n",
    "\n",
    "    # Crossover and mutation\n",
    "    while len(next_generation) < POPULATION_SIZE:\n",
    "        parent1 = tournament_selection(population, TOURNAMENT_SIZE)\n",
    "        parent2 = tournament_selection(population, TOURNAMENT_SIZE)\n",
    "        child = crossover(parent1, parent2)\n",
    "        child = mutate(child, hyperparameters_range)\n",
    "        next_generation.append(child)\n",
    "    population = next_generation\n",
    "\n",
    "# After all generations, the best individual is at the top of the sorted population\n",
    "best_hyperparameters = population[0]\n",
    "print(f'Best hyperparameters: {best_hyperparameters}')\n"
   ]
  }
 ],
 "metadata": {
  "kernelspec": {
   "display_name": "thesis_3.8",
   "language": "python",
   "name": "python3"
  },
  "language_info": {
   "codemirror_mode": {
    "name": "ipython",
    "version": 3
   },
   "file_extension": ".py",
   "mimetype": "text/x-python",
   "name": "python",
   "nbconvert_exporter": "python",
   "pygments_lexer": "ipython3",
   "version": "3.8.16"
  },
  "orig_nbformat": 4
 },
 "nbformat": 4,
 "nbformat_minor": 2
}
